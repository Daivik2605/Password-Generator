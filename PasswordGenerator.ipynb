{
 "cells": [
  {
   "cell_type": "code",
   "execution_count": 25,
   "id": "9f1443cb",
   "metadata": {},
   "outputs": [
    {
     "name": "stdout",
     "output_type": "stream",
     "text": [
      "Welcome to the Password Generator!\n",
      "How many letters would you like in your password?\n",
      "5\n",
      "How many symbols would you like?\n",
      "4\n",
      "How many numbers would you like?\n",
      "3\n",
      "Your password generated when Order of characters are not Randomised: \n",
      "AJeqN*$#&596\n",
      "Your Password when Order of characters is Randomised: \n",
      "##N&N595JAN*\n",
      "Your password Randomised using Shuffle: \n",
      "JN*A&#e9$q65"
     ]
    }
   ],
   "source": [
    "#Password Generator Project\n",
    "import random\n",
    "import string\n",
    "letters = ['a', 'b', 'c', 'd', 'e', 'f', 'g', 'h', 'i', 'j', 'k', 'l', 'm', 'n', 'o', 'p', 'q', 'r', 's', 't', 'u', 'v', 'w', 'x', 'y', 'z', 'A', 'B', 'C', 'D', 'E', 'F', 'G', 'H', 'I', 'J', 'K', 'L', 'M', 'N', 'O', 'P', 'Q', 'R', 'S', 'T', 'U', 'V', 'W', 'X', 'Y', 'Z']\n",
    "numbers = ['0', '1', '2', '3', '4', '5', '6', '7', '8', '9']\n",
    "symbols = ['!', '#', '$', '%', '&', '(', ')', '*', '+']\n",
    "\n",
    "print(\"Welcome to the Password Generator!\")\n",
    "nr_letters= int(input(\"How many letters would you like in your password?\\n\")) \n",
    "nr_symbols = int(input(f\"How many symbols would you like?\\n\"))\n",
    "nr_numbers = int(input(f\"How many numbers would you like?\\n\"))\n",
    "\n",
    "#Eazy Level - Order not randomised:\n",
    "#e.g. 4 letter, 2 symbol, 2 number = JduE&!91\n",
    "let = []\n",
    "for letter in range(nr_letters):\n",
    "    if letter not in letters:\n",
    "        let.append(random.choice(letters))\n",
    "#print(letters)\n",
    "sym = []\n",
    "for symbol in range(nr_symbols):\n",
    "    if symbol not in symbols:\n",
    "        sym.append(random.choice(symbols))\n",
    "#print(symbols)\n",
    "\n",
    "n = []\n",
    "for num in range(nr_numbers):\n",
    "    if num not in numbers:\n",
    "        n.append(random.choice(numbers))\n",
    "#print(numbers)\n",
    "\n",
    "password = let + sym + n\n",
    "print(\"Your password generated when Order of characters are not Randomised: \")\n",
    "for i in password:\n",
    "    print(i, end=\"\")\n",
    "#Hard Level - Order of characters randomised:\n",
    "#e.g. 4 letter, 2 symbol, 2 number = g^2jk8&P\n",
    "final = []\n",
    "for x in range(0, nr_letters+ nr_numbers+ nr_symbols):\n",
    "    final.append(random.choice(password))\n",
    "print(\"\\nYour Password when Order of characters is Randomised: \")\n",
    "for i in final:\n",
    "    print(i, end='')\n",
    "    \n",
    "    \n",
    "# Using Shuffle\n",
    "random.shuffle(password)\n",
    "print(\"\\nYour password Randomised using Shuffle: \")\n",
    "for i in password:\n",
    "    print(i, end=\"\")"
   ]
  }
 ],
 "metadata": {
  "kernelspec": {
   "display_name": "Python 3 (ipykernel)",
   "language": "python",
   "name": "python3"
  },
  "language_info": {
   "codemirror_mode": {
    "name": "ipython",
    "version": 3
   },
   "file_extension": ".py",
   "mimetype": "text/x-python",
   "name": "python",
   "nbconvert_exporter": "python",
   "pygments_lexer": "ipython3",
   "version": "3.11.5"
  }
 },
 "nbformat": 4,
 "nbformat_minor": 5
}
